{
 "cells": [
  {
   "cell_type": "code",
   "execution_count": null,
   "metadata": {},
   "outputs": [],
   "source": [
    "import pandas as pd\n",
    "import matplotlib.pyplot as plt\n",
    "from sklearn.utils import shuffle\n",
    "from sklearn.model_selection import train_test_split\n",
    "import numpy as np\n",
    "import glob\n",
    "from sklearn.svm import SVC\n",
    "from sklearn.metrics import accuracy_score\n",
    "import pickle\n",
    "import tensorflow as tf\n",
    "import re\n",
    "import json\n",
    "from sklearn.preprocessing import LabelEncoder, StandardScaler\n",
    "\n",
    "from sklearn.preprocessing import StandardScaler\n",
    "from sklearn.metrics import r2_score\n",
    "from keras.models import Sequential\n",
    "from keras.layers import Dense"
   ]
  },
  {
   "cell_type": "code",
   "execution_count": null,
   "metadata": {},
   "outputs": [],
   "source": [
    "# importing module\n",
    "from pymongo import MongoClient\n",
    "  \n",
    "# creation of MongoClient\n",
    "client=MongoClient()\n",
    "  \n",
    "# Connect with the portnumber and host\n",
    "client = MongoClient(\"mongodb://localhost:27017/\")\n",
    "  \n",
    "# Access database\n",
    "mydatabase = client['Price_Predictor']\n",
    "  \n",
    "# Access collection of the database\n",
    "col=mydatabase.car_details\n",
    "\n",
    "data = []\n",
    "cursor = col.find()\n",
    "for cars in cursor:\n",
    "    data.append(cars)\n",
    "\n",
    "df = pd.DataFrame(data)"
   ]
  },
  {
   "attachments": {},
   "cell_type": "markdown",
   "metadata": {},
   "source": [
    "Cleaning Data"
   ]
  },
  {
   "cell_type": "code",
   "execution_count": null,
   "metadata": {},
   "outputs": [],
   "source": [
    "df.isnull().sum()"
   ]
  },
  {
   "cell_type": "code",
   "execution_count": null,
   "metadata": {},
   "outputs": [],
   "source": [
    "df = df.drop(['Make','Model','Mfg Exterior Colour','Passengers','Interior Colour','Hwy Fuel Economy','City Fuel Economy','MTW Status','Stock Number','Status','Trim','Engine','Exterior Colour' ],axis='columns')\n",
    "df.head()"
   ]
  },
  {
   "cell_type": "code",
   "execution_count": null,
   "metadata": {},
   "outputs": [],
   "source": [
    "df= df.dropna()"
   ]
  },
  {
   "cell_type": "code",
   "execution_count": null,
   "metadata": {},
   "outputs": [],
   "source": [
    "df['Fuel Type'].unique()"
   ]
  },
  {
   "cell_type": "code",
   "execution_count": null,
   "metadata": {},
   "outputs": [],
   "source": [
    "Gas = ['Gas','gas','Gasoline', 'gasoline', 'lead','lex','ropa']\n",
    "for i in Gas:\n",
    "    df[\"Fuel Type\"] = np.where(df[\"Fuel Type\"].str.contains('^.*{}.*$'.format(i), flags=re.IGNORECASE,regex=True) ,'Gasoline',df[\"Fuel Type\"])"
   ]
  },
  {
   "cell_type": "code",
   "execution_count": null,
   "metadata": {},
   "outputs": [],
   "source": [
    "Gas1 = ['Other/Don’t Know']\n",
    "for i in Gas1:\n",
    "    df[\"Fuel Type\"] = np.where(df[\"Fuel Type\"].str.contains(i, flags=re.IGNORECASE,regex=True) ,'Other',df[\"Fuel Type\"])"
   ]
  },
  {
   "cell_type": "code",
   "execution_count": null,
   "metadata": {},
   "outputs": [],
   "source": [
    "df['Fuel Type'].unique()"
   ]
  },
  {
   "cell_type": "code",
   "execution_count": null,
   "metadata": {},
   "outputs": [],
   "source": [
    "df['Transmission'].unique()"
   ]
  },
  {
   "cell_type": "code",
   "execution_count": null,
   "metadata": {},
   "outputs": [],
   "source": [
    "Trns = ['Automatic','Manual']\n",
    "for i in Trns:\n",
    "    df[\"Transmission\"] = np.where(df[\"Transmission\"].str.contains('^.*{}.*$'.format(i), flags=re.IGNORECASE,regex=True) ,i,df[\"Transmission\"])"
   ]
  },
  {
   "cell_type": "code",
   "execution_count": null,
   "metadata": {},
   "outputs": [],
   "source": [
    "df['Transmission'].unique()"
   ]
  },
  {
   "cell_type": "code",
   "execution_count": null,
   "metadata": {},
   "outputs": [],
   "source": [
    "df['Kilometres'] = df['Kilometres'].str.slice(0,-3)\n",
    "df['Kilometres'] = df['Kilometres'].str.replace(',','')"
   ]
  },
  {
   "cell_type": "code",
   "execution_count": null,
   "metadata": {},
   "outputs": [],
   "source": [
    "df[['km', 'location','extra']] = df4[\"Car Location\"].apply(lambda x: pd.Series(str(x).split(\"|\")))"
   ]
  },
  {
   "cell_type": "code",
   "execution_count": null,
   "metadata": {},
   "outputs": [],
   "source": [
    "df[['year', 'brande','name','extra']] = df4[\"car title\"].apply(lambda x: pd.Series(str(x).split(\" \",3)))"
   ]
  },
  {
   "cell_type": "code",
   "execution_count": null,
   "metadata": {},
   "outputs": [],
   "source": [
    "df.drop(['Car Location','car title','extra','km','Doors','location'],axis=1,inplace=True)\n",
    "df.head()"
   ]
  },
  {
   "cell_type": "code",
   "execution_count": null,
   "metadata": {},
   "outputs": [],
   "source": [
    "df['Body Type'].unique()"
   ]
  },
  {
   "cell_type": "code",
   "execution_count": null,
   "metadata": {},
   "outputs": [],
   "source": [
    "cab = ['cab','crew'] \n",
    "for i in cab:\n",
    "    df[\"Body Type\"] = np.where(df[\"Body Type\"].str.contains('^.*{}.*$'.format(i), flags=re.IGNORECASE,regex=True) ,'Truck',df[\"Body Type\"])"
   ]
  },
  {
   "cell_type": "code",
   "execution_count": null,
   "metadata": {},
   "outputs": [],
   "source": [
    "cab = ['wagon'] \n",
    "for i in cab:\n",
    "    df[\"Body Type\"] = np.where(df[\"Body Type\"].str.contains('^.*{}.*$'.format(i), flags=re.IGNORECASE,regex=True) ,'Wagon',df[\"Body Type\"])"
   ]
  },
  {
   "cell_type": "code",
   "execution_count": null,
   "metadata": {},
   "outputs": [],
   "source": [
    "cab = ['van','Cutaway'] \n",
    "for i in cab:\n",
    "    df[\"Body Type\"] = np.where(df[\"Body Type\"].str.contains('^.*{}.*$'.format(i), flags=re.IGNORECASE,regex=True) ,'Van',df[\"Body Type\"])"
   ]
  },
  {
   "cell_type": "code",
   "execution_count": null,
   "metadata": {},
   "outputs": [],
   "source": [
    "cab = ['Compact'] \n",
    "for i in cab:\n",
    "    df[\"Body Type\"] = np.where(df[\"Body Type\"].str.contains('^.*{}.*$'.format(i), flags=re.IGNORECASE,regex=True) ,'Sedan',df[\"Body Type\"])"
   ]
  },
  {
   "cell_type": "code",
   "execution_count": null,
   "metadata": {},
   "outputs": [],
   "source": [
    "cab = ['Roadster'] \n",
    "for i in cab:\n",
    "    df[\"Body Type\"] = np.where(df[\"Body Type\"].str.contains('^.*{}.*$'.format(i), flags=re.IGNORECASE,regex=True) ,'Convertible',df[\"Body Type\"])"
   ]
  },
  {
   "cell_type": "code",
   "execution_count": null,
   "metadata": {},
   "outputs": [],
   "source": [
    "df['Body Type'].unique()"
   ]
  },
  {
   "attachments": {},
   "cell_type": "markdown",
   "metadata": {},
   "source": [
    "Converting Catogorical Values to numerical"
   ]
  },
  {
   "cell_type": "code",
   "execution_count": null,
   "metadata": {},
   "outputs": [],
   "source": [
    "#create dictionaries\n",
    "Body_Type = df['Body Type'].unique() \n",
    "Transmission = df['Transmission'].unique()  \n",
    "Drivetrain = df['Drivetrain'].unique() \n",
    "Fuel_Type = df['Fuel Type'].unique() \n",
    "brande = df['brande'].unique() \n",
    "name = df['name'].unique()\n",
    "\n",
    "\n",
    "def Convert(lst):\n",
    "    res_dct = {lst[i]: i+1 for i in range(0, len(lst), 1)}\n",
    "    return res_dct\n",
    "\n",
    "Body_Type_dict = Convert(Body_Type)\n",
    "Transmission_dict = Convert(Transmission)\n",
    "Drivetrain_dict = Convert(Drivetrain)\n",
    "Fuel_Type_dict = Convert(Fuel_Type)\n",
    "brande_dict = Convert(brande)\n",
    "name_dict = Convert(name)\n",
    "\n",
    "cato_val  = {\"body_type\":Body_Type_dict,\"transmission\":Transmission_dict,\"drivetrain\":Drivetrain_dict,\"fuel_type\":Fuel_Type_dict,\"brand\":brande_dict,\"name\":name_dict}\n",
    "\n",
    "with open(\"cato_val.json\", \"w\") as outfile:\n",
    "    outfile.write(json.dumps(cato_val, indent=4))\n",
    "print(cato_val)"
   ]
  },
  {
   "cell_type": "code",
   "execution_count": null,
   "metadata": {},
   "outputs": [],
   "source": [
    "# ['Body Type','Transmission','Drivetrain','Fuel Type','brande','name']\n",
    "for key, value in Body_Type_dict.items():\n",
    "    df['Body Type'] = np.where(df[\"Body Type\"] == key,value,df['Body Type'])\n",
    "\n",
    "for key, value in Transmission_dict.items():\n",
    "    df['Transmission'] = np.where(df[\"Transmission\"] == key,value,df['Transmission'])\n",
    "\n",
    "for key, value in Drivetrain_dict.items():\n",
    "    df['Drivetrain'] = np.where(df[\"Drivetrain\"] == key,value,df['Drivetrain'])\n",
    "\n",
    "for key, value in Fuel_Type_dict.items():\n",
    "    df['Fuel Type'] = np.where(df[\"Fuel Type\"] == key,value,df['Fuel Type'])\n",
    "\n",
    "for key, value in brande_dict.items():\n",
    "    df['brande'] = np.where(df[\"brande\"] == key,value,df['brande'])\n",
    "\n",
    "for key, value in name_dict.items():\n",
    "    df['name'] = np.where(df[\"name\"] == key,value,df['name'])"
   ]
  },
  {
   "cell_type": "code",
   "execution_count": null,
   "metadata": {},
   "outputs": [],
   "source": [
    "# importing module\n",
    "from pymongo import MongoClient\n",
    "  \n",
    "# creation of MongoClient\n",
    "client=MongoClient()\n",
    "  \n",
    "# Connect with the portnumber and host\n",
    "client = MongoClient(\"mongodb://localhost:27017/\")\n",
    "  \n",
    "# Access database\n",
    "mydatabase = client['Price_Predictor']\n",
    "  \n",
    "# Access collection of the database\n",
    "col=mydatabase.car_converted_catogorical_data\n",
    "  \n",
    "for i,row in df.iterrows():\n",
    "    record = row.to_json(orient = 'records')\n",
    "    # inserting the data in the database\n",
    "    mydatabase.car_details.insert_one(record)\n"
   ]
  }
 ],
 "metadata": {
  "language_info": {
   "name": "python"
  },
  "orig_nbformat": 4
 },
 "nbformat": 4,
 "nbformat_minor": 2
}
