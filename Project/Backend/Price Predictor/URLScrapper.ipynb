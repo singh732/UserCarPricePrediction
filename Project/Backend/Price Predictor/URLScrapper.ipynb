{
 "cells": [
  {
   "cell_type": "code",
   "execution_count": null,
   "metadata": {},
   "outputs": [],
   "source": [
    "import pandas as pd\n",
    "import json\n",
    "from bs4 import BeautifulSoup, SoupStrainer\n",
    "from selenium import webdriver\n",
    "from selenium.webdriver.chrome.service import Service\n",
    "import requests\n",
    "import pandas as pd\n",
    "import requests\n",
    "import json\n",
    "import time\n"
   ]
  },
  {
   "attachments": {},
   "cell_type": "markdown",
   "metadata": {},
   "source": [
    "Scrapping Car listing URls"
   ]
  },
  {
   "cell_type": "code",
   "execution_count": null,
   "metadata": {},
   "outputs": [],
   "source": [
    "\"\"\"\n",
    "Url Details\n",
    "rcp = no of listing on page\n",
    "rcs = no. of pages\n",
    "    if rcs 100 and rcp = 100 it will start from page 2 i.e. it will start from result 201\n",
    "    if rcs 200 and rcp = 100 it will start from page 3 i.e. it will start from result 301\n",
    "sts=New-Used\n",
    "    if New-Used searches for new, used and certified pre owned\n",
    "    if Used only used and certified pre-owned\n",
    "\n",
    "prv = state i.e. Ontario capital case\n",
    "\n",
    "prx = 100 100 km\n",
    "        -2 provincial\n",
    "        prx -1 national\n",
    "        \n",
    "srt = 3 high to low\n",
    "      4 low to high\n",
    "\n",
    "loc = city case do no matter\n",
    "\n",
    "adtype = Private only private seller\n",
    "         Dealer only dealer\n",
    "         none both\n",
    "    \n",
    "basr_url = https://www.autotrader.ca/cars/on/toronto/?rcp=15&rcs=0&srt=3&prx=100&prv=Ontario&loc=toronto&hprc=True&wcp=False&sts=Used&adtype=Private&inMarket=advancedSearch\n",
    "\n",
    "location = toronto\n",
    "distancs = +100\n",
    "condition = used and certified pre owned\n",
    "seller type = private\n",
    "other option = with price\n",
    "\"\"\""
   ]
  },
  {
   "cell_type": "code",
   "execution_count": null,
   "metadata": {},
   "outputs": [],
   "source": [
    "# location= toronto dealer = private\n",
    "rcp = 100\n",
    "rcs =0 # add 100 after every iteration\n",
    "carTitle = []\n",
    "linkUrl = []\n",
    "\n",
    "base_url = \"https://www.autotrader.ca/cars/?rcp=100&rcs={}&srt=3&prx=-1&loc=toronto&hprc=True&wcp=False&sts=Used&adtype=Private&inMarket=advancedSearch\".format(rcs)\n",
    "headers={'User-Agent': 'Mozilla/5.0'}\n",
    "response = requests.get(base_url, headers = headers)\n",
    "soup = BeautifulSoup(response.text, \"html.parser\")\n",
    "noOfResult = soup.find_all(\"h1\", class_=\"rfTitle-wrapper\")\n",
    "\n",
    "for inr in noOfResult:\n",
    "    countResultstr = inr.find(\"span\")\n",
    "print(\"Search Results: {}\\n\"+format(countResultstr.text))\n",
    "\n",
    "countResults = int(countResultstr.text.replace(',', ''))/100\n",
    "\n",
    "for i in range(int(countResults)):\n",
    "    base_url =   \"https://www.autotrader.ca/cars/?rcp=100&rcs={}&srt=3&prx=-1&loc=toronto&hprc=True&wcp=False&sts=Used&adtype=Private&inMarket=advancedSearch\".format(rcs)\n",
    "    headers={'User-Agent': 'Mozilla/5.0'}\n",
    "    response = requests.get(base_url, headers = headers)\n",
    "    soup = BeautifulSoup(response.text, \"html.parser\")\n",
    "    results = soup.find_all(id=\"listingsWrapperMainListing\")\n",
    "    list_head = soup.find_all(\"div\", class_=\"listing-details\")\n",
    "    rcs = rcs+100\n",
    "       \n",
    "    for sp in list_head:\n",
    "        tag = sp.find(\"span\")\n",
    "        linkTag = sp.find_all('a', href=True)\n",
    "        carName = tag.text\n",
    "        #carName = carName.replace(\" \",\"\")\n",
    "        carName = carName.replace(\"\\n\",\"\")\n",
    "        carName = carName.replace(\"\\r\",\"\")\n",
    "        carTitle.append(carName[1:len(carName)-1].strip())\n",
    "        for link in linkTag:\n",
    "            linkUrl.append(\"autotrader.ca\"+link['href'])\n",
    "print(\"No. of resuls for CarTitle:\",len(carTitle),\" \\n No. of Results for URL: \",len(linkUrl)) \n"
   ]
  },
  {
   "cell_type": "code",
   "execution_count": null,
   "metadata": {},
   "outputs": [],
   "source": [
    "d = {'Url':linkUrl}\n",
    "df = pd.DataFrame(d)\n",
    "#df.to_csv(path_or_buf=\"URL.csv\", index = False)"
   ]
  },
  {
   "attachments": {},
   "cell_type": "markdown",
   "metadata": {},
   "source": [
    "Scraping Actual from the extracted URLs"
   ]
  },
  {
   "cell_type": "code",
   "execution_count": null,
   "metadata": {},
   "outputs": [],
   "source": [
    "urlist = df['Url'].to_list()"
   ]
  },
  {
   "cell_type": "code",
   "execution_count": null,
   "metadata": {},
   "outputs": [],
   "source": [
    "\n",
    "\n",
    "def getCarData(url_data):\n",
    "    # location= ontario dealer = private\n",
    "    base_url =   url_data\n",
    "\n",
    "    ser = Service(r\"c:\\path\\to\\your\\chromedriver.exe\")\n",
    "    chrome_options = webdriver.ChromeOptions()\n",
    "    chrome_options.add_argument('headless')\n",
    "\n",
    "    # adding user agent to get headless mode running which blocked if user agent not mentioned\n",
    "    user_agent = 'Mozilla/5.0 (X11; Linux x86_64) AppleWebKit/537.36 (KHTML, like Gecko) Chrome/60.0.3112.50 Safari/537.36'\n",
    "    chrome_options.add_argument(f'user-agent={user_agent}')\n",
    "    driver = webdriver.Chrome(service=ser, options=chrome_options)\n",
    "    driver.get(base_url)\n",
    "\n",
    "    #response = requests.get(base_url, headers = headers)\n",
    "    html = driver.page_source\n",
    "    soup = BeautifulSoup(html, \"html.parser\")\n",
    "\n",
    "    # getting and splitting car title element into list\n",
    "    car_info = soup.find_all(\"h1\", class_=\"hero-title\")\n",
    "    car_title = \"\"\n",
    "    car_loc_list=\"\"\n",
    " \n",
    "\n",
    "    if(len(car_info)>0):\n",
    "        car_title = car_info[0].text\n",
    "\n",
    "    # getting and splitting car info which location,kms, car title \n",
    "    car_location = soup.find_all(\"p\", class_=\"hero-location\")\n",
    "    \n",
    "    if(len(car_location)>0):\n",
    "        car_loc_list = car_location[0].text\n",
    "\n",
    "    # getting all specs data from li\n",
    "    Ul_list_head1 = soup.find(\"ul\", id=\"sl-card-body\")\n",
    "    carSpecs = {}\n",
    "    if Ul_list_head1 is not None:\n",
    "        li_list_content = Ul_list_head1.find_all(\"li\")\n",
    "        \n",
    "        carSpecs[\"Car Location\"] = car_loc_list\n",
    "        carSpecs[\"car title\"] = car_title\n",
    "        for sp in li_list_content:\n",
    "            span_list = sp.find_all(\"span\");\n",
    "            carSpecsKey = span_list[0].text\n",
    "            carSpecsValue = span_list[1].text\n",
    "            carSpecs[carSpecsKey] = carSpecsValue\n",
    "    \n",
    "    return carSpecs"
   ]
  },
  {
   "attachments": {},
   "cell_type": "markdown",
   "metadata": {},
   "source": [
    "Calling the Fetch Function and adding to the database"
   ]
  },
  {
   "cell_type": "code",
   "execution_count": null,
   "metadata": {},
   "outputs": [],
   "source": [
    "# importing module\n",
    "from pymongo import MongoClient\n",
    "  \n",
    "# creation of MongoClient\n",
    "client=MongoClient()\n",
    "  \n",
    "# Connect with the portnumber and host\n",
    "client = MongoClient(\"mongodb://localhost:27017/\")\n",
    "  \n",
    "# Access database\n",
    "mydatabase = client['Price_Predictor']\n",
    "  \n",
    "# Access collection of the database\n",
    "col=mydatabase.car_details\n",
    "  \n",
    "# dictionary to be added in the database\n",
    "all_cars_data1 = []\n",
    "for index,row in df.iterrows():\n",
    "    carSpecs1 = getCarData('https://www.'+row['Url'].strip())\n",
    "    # inserting the data in the database\n",
    "    mydatabase.car_details.insert_one(carSpecs1)\n",
    "    # print(\"Done\",index)"
   ]
  },
  {
   "cell_type": "code",
   "execution_count": null,
   "metadata": {},
   "outputs": [],
   "source": [
    "# cursor = col.find()\n",
    "# for cars in cursor:\n",
    "#     print(cars)"
   ]
  }
 ],
 "metadata": {
  "language_info": {
   "name": "python"
  },
  "orig_nbformat": 4
 },
 "nbformat": 4,
 "nbformat_minor": 2
}
